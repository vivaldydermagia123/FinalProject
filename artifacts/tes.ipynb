{
 "cells": [
  {
   "cell_type": "code",
   "execution_count": 1,
   "metadata": {},
   "outputs": [],
   "source": [
    "import pandas as pd "
   ]
  },
  {
   "cell_type": "code",
   "execution_count": 2,
   "metadata": {},
   "outputs": [
    {
     "data": {
      "text/html": [
       "<div>\n",
       "<style scoped>\n",
       "    .dataframe tbody tr th:only-of-type {\n",
       "        vertical-align: middle;\n",
       "    }\n",
       "\n",
       "    .dataframe tbody tr th {\n",
       "        vertical-align: top;\n",
       "    }\n",
       "\n",
       "    .dataframe thead th {\n",
       "        text-align: right;\n",
       "    }\n",
       "</style>\n",
       "<table border=\"1\" class=\"dataframe\">\n",
       "  <thead>\n",
       "    <tr style=\"text-align: right;\">\n",
       "      <th></th>\n",
       "      <th>ID CT</th>\n",
       "      <th>FUNCTION</th>\n",
       "      <th>MATERIAL</th>\n",
       "      <th>DAY_RUN</th>\n",
       "      <th>RR</th>\n",
       "      <th>NAOCL</th>\n",
       "      <th>AVG_T_RETURN</th>\n",
       "      <th>CONDUCT LIMIT</th>\n",
       "      <th>AVG_FRC</th>\n",
       "      <th>AVG_CHLORIDE</th>\n",
       "      <th>TOTAL BACTERIA</th>\n",
       "      <th>BACTERIA_STATUS</th>\n",
       "    </tr>\n",
       "  </thead>\n",
       "  <tbody>\n",
       "    <tr>\n",
       "      <th>0</th>\n",
       "      <td>Cooling Tower Refra E</td>\n",
       "      <td>FRACTIONATION</td>\n",
       "      <td>Stainless steel, Cuprum, Galvanized</td>\n",
       "      <td>31</td>\n",
       "      <td>2496</td>\n",
       "      <td>771.92</td>\n",
       "      <td>32.6</td>\n",
       "      <td>1500</td>\n",
       "      <td>0.24</td>\n",
       "      <td>125.69</td>\n",
       "      <td>1000</td>\n",
       "      <td>Acceptable</td>\n",
       "    </tr>\n",
       "    <tr>\n",
       "      <th>1</th>\n",
       "      <td>Cooling Tower Fract G</td>\n",
       "      <td>FRACTIONATION</td>\n",
       "      <td>Stainless steel, Cuprum, Galvanized</td>\n",
       "      <td>8</td>\n",
       "      <td>624</td>\n",
       "      <td>366.26</td>\n",
       "      <td>38.1</td>\n",
       "      <td>700</td>\n",
       "      <td>0.18</td>\n",
       "      <td>119.29</td>\n",
       "      <td>1000</td>\n",
       "      <td>Acceptable</td>\n",
       "    </tr>\n",
       "    <tr>\n",
       "      <th>2</th>\n",
       "      <td>Cooling Tower Refra E</td>\n",
       "      <td>FRACTIONATION</td>\n",
       "      <td>Stainless steel, Cuprum, Galvanized</td>\n",
       "      <td>31</td>\n",
       "      <td>2496</td>\n",
       "      <td>1516.90</td>\n",
       "      <td>32.6</td>\n",
       "      <td>1500</td>\n",
       "      <td>0.39</td>\n",
       "      <td>161.11</td>\n",
       "      <td>1000</td>\n",
       "      <td>Acceptable</td>\n",
       "    </tr>\n",
       "    <tr>\n",
       "      <th>3</th>\n",
       "      <td>Cooling Tower Ref K</td>\n",
       "      <td>PROCESS</td>\n",
       "      <td>Stainless steel</td>\n",
       "      <td>31</td>\n",
       "      <td>350</td>\n",
       "      <td>311.10</td>\n",
       "      <td>33.9</td>\n",
       "      <td>700</td>\n",
       "      <td>1.11</td>\n",
       "      <td>145.90</td>\n",
       "      <td>1000</td>\n",
       "      <td>Acceptable</td>\n",
       "    </tr>\n",
       "    <tr>\n",
       "      <th>4</th>\n",
       "      <td>Cooling Tower Ref C</td>\n",
       "      <td>PROCESS</td>\n",
       "      <td>Stainless steel</td>\n",
       "      <td>30</td>\n",
       "      <td>450</td>\n",
       "      <td>726.92</td>\n",
       "      <td>39.3</td>\n",
       "      <td>1200</td>\n",
       "      <td>0.24</td>\n",
       "      <td>235.11</td>\n",
       "      <td>1000</td>\n",
       "      <td>Acceptable</td>\n",
       "    </tr>\n",
       "  </tbody>\n",
       "</table>\n",
       "</div>"
      ],
      "text/plain": [
       "                   ID CT       FUNCTION                             MATERIAL  \\\n",
       "0  Cooling Tower Refra E  FRACTIONATION  Stainless steel, Cuprum, Galvanized   \n",
       "1  Cooling Tower Fract G  FRACTIONATION  Stainless steel, Cuprum, Galvanized   \n",
       "2  Cooling Tower Refra E  FRACTIONATION  Stainless steel, Cuprum, Galvanized   \n",
       "3    Cooling Tower Ref K        PROCESS                      Stainless steel   \n",
       "4    Cooling Tower Ref C        PROCESS                      Stainless steel   \n",
       "\n",
       "   DAY_RUN    RR    NAOCL  AVG_T_RETURN  CONDUCT LIMIT  AVG_FRC  AVG_CHLORIDE  \\\n",
       "0       31  2496   771.92          32.6           1500     0.24        125.69   \n",
       "1        8   624   366.26          38.1            700     0.18        119.29   \n",
       "2       31  2496  1516.90          32.6           1500     0.39        161.11   \n",
       "3       31   350   311.10          33.9            700     1.11        145.90   \n",
       "4       30   450   726.92          39.3           1200     0.24        235.11   \n",
       "\n",
       "   TOTAL BACTERIA BACTERIA_STATUS  \n",
       "0            1000      Acceptable  \n",
       "1            1000      Acceptable  \n",
       "2            1000      Acceptable  \n",
       "3            1000      Acceptable  \n",
       "4            1000      Acceptable  "
      ]
     },
     "execution_count": 2,
     "metadata": {},
     "output_type": "execute_result"
    }
   ],
   "source": [
    "data_test = pd.read_csv('test.csv')\n",
    "data_test.head()"
   ]
  },
  {
   "cell_type": "code",
   "execution_count": 3,
   "metadata": {},
   "outputs": [
    {
     "data": {
      "text/plain": [
       "BACTERIA_STATUS\n",
       "Acceptable        39\n",
       "Not Acceptable     5\n",
       "Name: count, dtype: int64"
      ]
     },
     "execution_count": 3,
     "metadata": {},
     "output_type": "execute_result"
    }
   ],
   "source": [
    "data_test.BACTERIA_STATUS.value_counts()"
   ]
  },
  {
   "cell_type": "code",
   "execution_count": 5,
   "metadata": {},
   "outputs": [
    {
     "data": {
      "text/plain": [
       "FUNCTION\n",
       "FRACTIONATION    23\n",
       "PROCESS          21\n",
       "Name: count, dtype: int64"
      ]
     },
     "execution_count": 5,
     "metadata": {},
     "output_type": "execute_result"
    }
   ],
   "source": [
    "data_test.FUNCTION.value_counts()"
   ]
  },
  {
   "cell_type": "code",
   "execution_count": 4,
   "metadata": {},
   "outputs": [
    {
     "data": {
      "text/plain": [
       "MATERIAL\n",
       "Stainless steel                        21\n",
       "Stainless steel, Cuprum, Galvanized    18\n",
       "Stainless steel, Galvanized             5\n",
       "Name: count, dtype: int64"
      ]
     },
     "execution_count": 4,
     "metadata": {},
     "output_type": "execute_result"
    }
   ],
   "source": [
    "data_test.MATERIAL.value_counts()"
   ]
  },
  {
   "cell_type": "code",
   "execution_count": null,
   "metadata": {},
   "outputs": [],
   "source": []
  }
 ],
 "metadata": {
  "kernelspec": {
   "display_name": "venv",
   "language": "python",
   "name": "python3"
  },
  "language_info": {
   "codemirror_mode": {
    "name": "ipython",
    "version": 3
   },
   "file_extension": ".py",
   "mimetype": "text/x-python",
   "name": "python",
   "nbconvert_exporter": "python",
   "pygments_lexer": "ipython3",
   "version": "3.11.5"
  }
 },
 "nbformat": 4,
 "nbformat_minor": 2
}
